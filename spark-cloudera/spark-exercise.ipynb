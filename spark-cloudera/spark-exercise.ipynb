{
 "cells": [
  {
   "cell_type": "markdown",
   "metadata": {},
   "source": [
    "First, save the paths to the necessary files as objects and create RDDs from the objects"
   ]
  },
  {
   "cell_type": "code",
   "execution_count": 2,
   "metadata": {
    "collapsed": true
   },
   "outputs": [],
   "source": [
    "accountsPath = \"/loudacre/accounts/part-m-*\"\n",
    "weblogsPath = \"/loudacre/weblogs/FlumeData.*\"\n",
    "baseStationsPath = \"/loudacre/base_stations.tsv\"\n",
    "\n",
    "accountsRDD = sc.textFile(accountsPath)\n",
    "weblogsRDD = sc.textFile(weblogsPath)\n",
    "baseStationsRDD = sc.textFile(baseStationsPath)"
   ]
  },
  {
   "cell_type": "markdown",
   "metadata": {},
   "source": [
    "How many users are there in total?  Assuming each user has a distinct user ID, map by user ID and count the number of distinct entries"
   ]
  },
  {
   "cell_type": "code",
   "execution_count": 3,
   "metadata": {
    "collapsed": false
   },
   "outputs": [
    {
     "name": "stdout",
     "output_type": "stream",
     "text": [
      "there are 129764 unique users in total\n"
     ]
    }
   ],
   "source": [
    "totalUsers = accountsRDD.map(lambda line:(line.split(',')[0]))\\\n",
    "    .distinct()\\\n",
    "    .count()\n",
    "print('there are ' + str(totalUsers) + ' unique users in total')"
   ]
  },
  {
   "cell_type": "markdown",
   "metadata": {},
   "source": [
    "How many cities have users? In other words, how many unique cities appear in the user accounts records?\n",
    "As above, we map on the city column and count the number of distinct entries (the city is stored in column 6 - this is sense-checked in the commented line)."
   ]
  },
  {
   "cell_type": "code",
   "execution_count": 4,
   "metadata": {
    "collapsed": false
   },
   "outputs": [
    {
     "name": "stdout",
     "output_type": "stream",
     "text": [
      "there are 56 unique cities with users\n"
     ]
    }
   ],
   "source": [
    "totalUserCities = accountsRDD.map(lambda line:(line.split(',')[6]))\\\n",
    "    .distinct()\n",
    "    \n",
    "#print(totalUserCities.take(100))\n",
    "\n",
    "totalUserCities=totalUserCities.count()\n",
    "\n",
    "print('there are ' + str(totalUserCities) + ' unique cities with users')"
   ]
  },
  {
   "cell_type": "markdown",
   "metadata": {},
   "source": [
    "How many cities have base stations? In other words, how many unique cities are listed in the base stations records?\n",
    "Map on the city column (note, don't split by comma this time) and count the number of distinct entries"
   ]
  },
  {
   "cell_type": "code",
   "execution_count": 5,
   "metadata": {
    "collapsed": false
   },
   "outputs": [
    {
     "name": "stdout",
     "output_type": "stream",
     "text": [
      "there are 238 unique cities with base stations\n"
     ]
    }
   ],
   "source": [
    "totalBaseStationCities = baseStationsRDD .map(lambda line:(line.split('\\t')[2]))\\\n",
    "    .distinct()\\\n",
    "#sense-check to make sure we have the correct column\n",
    "#print(totalBaseStationCities.take(5))\n",
    "\n",
    "totalBaseStationCities=totalBaseStationCities.count()\n",
    "\n",
    "print('there are ' + str(totalBaseStationCities) + ' unique cities with base stations')\n"
   ]
  },
  {
   "cell_type": "markdown",
   "metadata": {},
   "source": [
    "How many base stations are there? Let's not assume each station key (column 0) has been entered sequentially, even though it looks like they have been. Instead count the number of unique keys"
   ]
  },
  {
   "cell_type": "code",
   "execution_count": 6,
   "metadata": {
    "collapsed": false
   },
   "outputs": [
    {
     "name": "stdout",
     "output_type": "stream",
     "text": [
      "there are 377 base stations in total\n"
     ]
    }
   ],
   "source": [
    "totalBaseStations = baseStationsRDD.map(lambda line:(line.split('\\t')[0]))\\\n",
    "    .distinct()\\\n",
    "    .count()\n",
    "print('there are ' + str(totalBaseStations) + ' base stations in total')"
   ]
  },
  {
   "cell_type": "markdown",
   "metadata": {},
   "source": [
    "Number of users in each city\n",
    "To do this, first create an RDD from the accounts data with city as the key and 1 as the value. We could reducebycount on this, but it wouldn't include cities with zero users (I am assuming we want cities with base stations but no users included too).\n",
    "To include these, create a RDD from the base station data with city as the key and 0 as the value.\n",
    "Union these RDDs and reduceByKey to get the number of users for each city.\n",
    "\n",
    "All cities with users or base stations are shown, ordered by total number of users (descending)"
   ]
  },
  {
   "cell_type": "code",
   "execution_count": 7,
   "metadata": {
    "collapsed": false
   },
   "outputs": [
    {
     "data": {
      "text/plain": [
       "[(u'Portland', 4602),\n",
       " (u'Bend', 1528),\n",
       " (u'Eugene', 1520),\n",
       " (u'Medford', 1511),\n",
       " (u'Salem', 1496),\n",
       " (u'Klamath Falls', 1463),\n",
       " (u'Pendleton', 1455),\n",
       " (u'Umatilla', 0),\n",
       " (u'Butte Falls', 0),\n",
       " (u'Saint Benedict', 0),\n",
       " (u'Beaver', 0),\n",
       " (u'Bridgeport', 0),\n",
       " (u'Gaston', 0),\n",
       " (u'Oregon City', 0),\n",
       " (u'Riverside', 0),\n",
       " (u'Government Camp', 0),\n",
       " (u'Wilbur', 0),\n",
       " (u'Bates', 0),\n",
       " (u'Trail', 0),\n",
       " (u'Long Creek', 0),\n",
       " (u'Bridal Veil', 0),\n",
       " (u'North Powder', 0),\n",
       " (u'Molalla', 0),\n",
       " (u'Corvallis', 0),\n",
       " (u'Halsey', 0),\n",
       " (u'Baker City', 0),\n",
       " (u'Dillard', 0),\n",
       " (u'Junction City', 0)]"
      ]
     },
     "execution_count": 7,
     "metadata": {},
     "output_type": "execute_result"
    }
   ],
   "source": [
    "#always filter first for efficiency\n",
    "ORuserCityRDD = accountsRDD.filter(lambda line: line.split(',')[7] == \"OR\")\\\n",
    "    .map(lambda line:(line.split(',')[6],1))\n",
    "   \n",
    "ORcityBaseStationRDD = baseStationsRDD.filter(lambda line: line.split('\\t')[3]==\"OR\")\\\n",
    "    .map(lambda line:(line.split('\\t')[2],0))\n",
    "\n",
    "ORuserCityRDD=ORuserCityRDD.union(ORcityBaseStationRDD)\\\n",
    "    .reduceByKey(lambda v1,v2: v1+v2)\n",
    "\n",
    "ORuserCityRDD.takeOrdered(100, lambda(city,value): -1 * value)\n",
    "\n",
    "#TODO - print instead of take"
   ]
  },
  {
   "cell_type": "markdown",
   "metadata": {},
   "source": [
    "Count of users and bases for each city\n",
    "To achieve this we map both the user and baseStation RDDs with city as the key. We can then reducebykey to count the number of each and join (full join necessary to include cities with no base station)\n",
    "The city is taken as a user input (for example 'Sacramento' provides the answer to the original question; 'Salem' is an example with zero base stations - giving 'None')"
   ]
  },
  {
   "cell_type": "code",
   "execution_count": 46,
   "metadata": {
    "collapsed": false
   },
   "outputs": [
    {
     "name": "stdout",
     "output_type": "stream",
     "text": [
      "please enter city: sacramento\n",
      "city: Sacramento |\ttotal users: 6820 \ttotal base stations: 4\n"
     ]
    }
   ],
   "source": [
    "usersByCity = accountsRDD.map(lambda line:(line.split(',')[6],1))\\\n",
    "    .reduceByKey(lambda v1,v2: v1+v2)\n",
    "    \n",
    "baseStationsByCity = baseStationsRDD.map(lambda line:(line.split('\\t')[2],1))\\\n",
    "    .reduceByKey(lambda v1,v2: v1+v2)\n",
    "\n",
    "#join the above RDDs to get users and stations per city\n",
    "countsByCity=usersByCity.fullOuterJoin(baseStationsByCity)\\\n",
    "    .filter(lambda(key, value): value[0]!=None) #filter to only include cities with users\n",
    "\n",
    "\n",
    "#take user input and return data for city\n",
    "requestedCity=raw_input('please enter city: ')\n",
    "cityRow = countsByCity.filter(lambda (key, value): key.lower()==requestedCity.lower())\n",
    "\n",
    "if cityRow.count() > 0:\n",
    "    cityRow=cityRow.take(1)\n",
    "    for (city, values) in cityRow:\n",
    "        print 'city:' , city, '|\\ttotal users:', values[0], '\\ttotal base stations:', values[1]\n",
    "\n",
    "else:\n",
    "    print 'city name not recognised'"
   ]
  },
  {
   "cell_type": "code",
   "execution_count": 40,
   "metadata": {
    "collapsed": false
   },
   "outputs": [
    {
     "ename": "TypeError",
     "evalue": "count() takes exactly one argument (0 given)",
     "output_type": "error",
     "traceback": [
      "\u001b[1;31m---------------------------------------------------------------------------\u001b[0m",
      "\u001b[1;31mTypeError\u001b[0m                                 Traceback (most recent call last)",
      "\u001b[1;32m<ipython-input-40-9b3023c8b16f>\u001b[0m in \u001b[0;36m<module>\u001b[1;34m()\u001b[0m\n\u001b[1;32m----> 1\u001b[1;33m \u001b[0mcityRow\u001b[0m\u001b[1;33m.\u001b[0m\u001b[0mcount\u001b[0m\u001b[1;33m(\u001b[0m\u001b[1;33m)\u001b[0m\u001b[1;33m\u001b[0m\u001b[0m\n\u001b[0m",
      "\u001b[1;31mTypeError\u001b[0m: count() takes exactly one argument (0 given)"
     ]
    }
   ],
   "source": []
  },
  {
   "cell_type": "code",
   "execution_count": null,
   "metadata": {
    "collapsed": true
   },
   "outputs": [],
   "source": []
  }
 ],
 "metadata": {
  "kernelspec": {
   "display_name": "Python 2",
   "language": "python",
   "name": "python2"
  },
  "language_info": {
   "codemirror_mode": {
    "name": "ipython",
    "version": 2
   },
   "file_extension": ".py",
   "mimetype": "text/x-python",
   "name": "python",
   "nbconvert_exporter": "python",
   "pygments_lexer": "ipython2",
   "version": "2.7.8"
  }
 },
 "nbformat": 4,
 "nbformat_minor": 0
}
