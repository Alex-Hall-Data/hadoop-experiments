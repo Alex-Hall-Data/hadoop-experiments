{
 "cells": [
  {
   "cell_type": "markdown",
   "metadata": {},
   "source": [
    "# Analysis of Loudacre data with Spark"
   ]
  },
  {
   "cell_type": "markdown",
   "metadata": {},
   "source": [
    "First, save the paths to the necessary files as objects and create RDDs from the objects"
   ]
  },
  {
   "cell_type": "code",
   "execution_count": 38,
   "metadata": {
    "collapsed": true
   },
   "outputs": [],
   "source": [
    "accountsPath = \"/loudacre/accounts/part-m-*\"\n",
    "weblogsPath = \"/loudacre/weblogs/FlumeData.*\"\n",
    "baseStationsPath = \"/loudacre/base_stations.tsv\"\n",
    "\n",
    "accountsRDD = sc.textFile(accountsPath)\n",
    "weblogsRDD = sc.textFile(weblogsPath)\n",
    "baseStationsRDD = sc.textFile(baseStationsPath)"
   ]
  },
  {
   "cell_type": "markdown",
   "metadata": {},
   "source": [
    "**How many users are there in total?**\n",
    "\n",
    "Assuming each user has a distinct user ID, map by user ID and count the number of distinct entries"
   ]
  },
  {
   "cell_type": "code",
   "execution_count": 39,
   "metadata": {
    "collapsed": false
   },
   "outputs": [
    {
     "name": "stdout",
     "output_type": "stream",
     "text": [
      "there are 129764 unique users in total\n"
     ]
    }
   ],
   "source": [
    "totalUsers = accountsRDD.map(lambda line:(line.split(',')[0]))\\\n",
    "    .distinct()\\\n",
    "    .count()\n",
    "print('there are ' + str(totalUsers) + ' unique users in total')"
   ]
  },
  {
   "cell_type": "markdown",
   "metadata": {},
   "source": [
    "**How many cities have users?**\n",
    "\n",
    "In other words, how many unique cities appear in the user accounts records?\n",
    "As above, we map on the city column and count the number of distinct entries (the city is stored in column 6 - this is sense-checked in the commented line)."
   ]
  },
  {
   "cell_type": "code",
   "execution_count": 40,
   "metadata": {
    "collapsed": false
   },
   "outputs": [
    {
     "name": "stdout",
     "output_type": "stream",
     "text": [
      "there are 56 unique cities with users\n"
     ]
    }
   ],
   "source": [
    "totalUserCities = accountsRDD.map(lambda line:(line.split(',')[6]))\\\n",
    "    .distinct()\n",
    "    \n",
    "#print(totalUserCities.take(100))\n",
    "\n",
    "totalUserCities=totalUserCities.count()\n",
    "\n",
    "print('there are ' + str(totalUserCities) + ' unique cities with users')"
   ]
  },
  {
   "cell_type": "markdown",
   "metadata": {},
   "source": [
    "**How many cities have base stations?**\n",
    "\n",
    "In other words, how many unique cities are listed in the base stations records?\n",
    "Map on the city column (note, don't split by comma this time) and count the number of distinct entries"
   ]
  },
  {
   "cell_type": "code",
   "execution_count": 46,
   "metadata": {
    "collapsed": false
   },
   "outputs": [
    {
     "name": "stdout",
     "output_type": "stream",
     "text": [
      "[u'Blue', u'Loomis', u'Baker City', u'Packwood', u'Bullhead City']\n",
      "there are 238 unique cities with base stations\n"
     ]
    }
   ],
   "source": [
    "totalBaseStationCities = baseStationsRDD .map(lambda line:(line.split('\\t')[2]))\\\n",
    "    .distinct()\\\n",
    "#sense-check to make sure we have the correct column\n",
    "#print(totalBaseStationCities.take(5))\n",
    "\n",
    "totalBaseStationCities=totalBaseStationCities.count()\n",
    "\n",
    "print('there are ' + str(totalBaseStationCities) + ' unique cities with base stations')\n"
   ]
  },
  {
   "cell_type": "markdown",
   "metadata": {},
   "source": [
    "**How many base stations are there?**\n",
    "\n",
    "Let's not assume each station key (column 0) has been entered sequentially, even though it looks like they have been. Instead count the number of unique keys"
   ]
  },
  {
   "cell_type": "code",
   "execution_count": 42,
   "metadata": {
    "collapsed": false
   },
   "outputs": [
    {
     "name": "stdout",
     "output_type": "stream",
     "text": [
      "there are 377 base stations in total\n"
     ]
    }
   ],
   "source": [
    "totalBaseStations = baseStationsRDD.map(lambda line:(line.split('\\t')[0]))\\\n",
    "    .distinct()\\\n",
    "    .count()\n",
    "print('there are ' + str(totalBaseStations) + ' base stations in total')"
   ]
  },
  {
   "cell_type": "markdown",
   "metadata": {},
   "source": [
    "**Number of users in each city in Oregon**\n",
    "\n",
    "\n",
    "To do this, first create an RDD from the accounts data with city as the key and 1 as the value. \n",
    "\n",
    "\n",
    "\n",
    "<font color='red'> We could reducebycount on this, but it wouldn't include cities with zero users (I am conservatively assuming we want cities with base stations but no users included too). </font>\n",
    "\n",
    "\n",
    "To include these, create a RDD from the base station data with city as the key and 0 as the value.\n",
    "Union these RDDs and reduceByKey to get the number of users for each city.\n",
    "\n",
    "All cities with users or base stations are shown, ordered by total number of users (descending)"
   ]
  },
  {
   "cell_type": "code",
   "execution_count": 43,
   "metadata": {
    "collapsed": false
   },
   "outputs": [
    {
     "name": "stdout",
     "output_type": "stream",
     "text": [
      "Portland 4602\n",
      "Bend 1528\n",
      "Eugene 1520\n",
      "Medford 1511\n",
      "Salem 1496\n",
      "Klamath Falls 1463\n",
      "Pendleton 1455\n",
      "Umatilla 0\n",
      "Butte Falls 0\n",
      "Saint Benedict 0\n",
      "Beaver 0\n",
      "Bridgeport 0\n",
      "Gaston 0\n",
      "Oregon City 0\n",
      "Riverside 0\n",
      "Government Camp 0\n",
      "Wilbur 0\n",
      "Bates 0\n",
      "Trail 0\n",
      "Long Creek 0\n",
      "Bridal Veil 0\n",
      "North Powder 0\n",
      "Molalla 0\n",
      "Corvallis 0\n",
      "Halsey 0\n",
      "Baker City 0\n",
      "Dillard 0\n",
      "Junction City 0\n"
     ]
    }
   ],
   "source": [
    "#always filter first for efficiency - map by city\n",
    "ORuserCityRDD = accountsRDD.filter(lambda line: line.split(',')[7] == \"OR\")\\\n",
    "    .map(lambda line:(line.split(',')[6],1))\n",
    "\n",
    "# map base station data by city but value =0   \n",
    "ORcityBaseStationRDD = baseStationsRDD.filter(lambda line: line.split('\\t')[3]==\"OR\")\\\n",
    "    .map(lambda line:(line.split('\\t')[2],0))\n",
    "\n",
    "#union to get list of all cities and reduce to count users\n",
    "ORuserCityRDD=ORuserCityRDD.union(ORcityBaseStationRDD)\\\n",
    "    .reduceByKey(lambda v1,v2: v1+v2)\\\n",
    "    .sortBy(lambda x : -x[1])\n",
    "\n",
    "for (city,users) in ORuserCityRDD.collect():\n",
    "    print city , users\n"
   ]
  },
  {
   "cell_type": "markdown",
   "metadata": {},
   "source": [
    "**Count of users and bases for each city.**\n",
    "To achieve this we map both the user and baseStation RDDs with city as the key. We can then reducebykey to count the number of each and join (full join necessary to include cities with no base station)\n",
    "The city is taken as a user input (for example 'Sacramento' provides the answer to the original question; 'Salem' is an example with zero base stations - giving 'None')"
   ]
  },
  {
   "cell_type": "code",
   "execution_count": 44,
   "metadata": {
    "collapsed": false
   },
   "outputs": [
    {
     "name": "stdout",
     "output_type": "stream",
     "text": [
      "please enter city: sacramento\n",
      "city: sacramento |\ttotal users: 6820 \ttotal base stations: 4\n"
     ]
    }
   ],
   "source": [
    "#users in each city (key is lowercase)\n",
    "usersByCity = accountsRDD.map(lambda line:(line.split(',')[6].lower(),1))\\\n",
    "    .reduceByKey(lambda v1,v2: v1+v2)\n",
    "\n",
    "#base stations in each city\n",
    "baseStationsByCity = baseStationsRDD.map(lambda line:(line.split('\\t')[2].lower(),1))\\\n",
    "    .reduceByKey(lambda v1,v2: v1+v2)\n",
    "\n",
    "#join the above RDDs to get users and stations per city\n",
    "countsByCity=usersByCity.fullOuterJoin(baseStationsByCity)\\\n",
    "    .filter(lambda(key, value): value[0]!=None) #filter to only include cities with users\n",
    "\n",
    "\n",
    "#take user input and return data for city\n",
    "requestedCity=raw_input('please enter city: ')\n",
    "cityRow = countsByCity.lookup(requestedCity.lower())\n",
    "\n",
    "if len(cityRow) > 0:\n",
    "    for (users, values) in cityRow:\n",
    "        print 'city:' , requestedCity, '|\\ttotal users:', users, '\\ttotal base stations:', values\n",
    "\n",
    "else:\n",
    "    print 'city name not recognised or city has no users'"
   ]
  },
  {
   "cell_type": "markdown",
   "metadata": {
    "collapsed": true
   },
   "source": [
    "**Number of requests from the most active user, by state**\n",
    "This requires mapping the weblogs RDD on userID and reducing (reducebykey) to get the total number of requests per user.\n",
    "The resulting RDD is then joined with the accounts data and reducebykey is used again to get the max user in each state by requests (negating the need for a group by operation).\n",
    "\n"
   ]
  },
  {
   "cell_type": "code",
   "execution_count": 45,
   "metadata": {
    "collapsed": false
   },
   "outputs": [
    {
     "name": "stdout",
     "output_type": "stream",
     "text": [
      "CA | \tBiggest User: 192 \tRequests:  1538\n",
      "NV | \tBiggest User: 20382 \tRequests:  125\n",
      "OR | \tBiggest User: 60223 \tRequests:  122\n",
      "AZ | \tBiggest User: 50367 \tRequests:  120\n"
     ]
    }
   ],
   "source": [
    "#sum total requests by user\n",
    "requestsPerUser = weblogsRDD.map(lambda line: (line.split(' ')[2],1))\\\n",
    "    .reduceByKey(lambda v1,v2: v1+v2)\n",
    "\n",
    "#make a RDD of each user with key=user_id and value=state\n",
    "requestsByState = accountsRDD.map(lambda line:(line.split(',')[0],line.split(',')[7]))\n",
    "\n",
    "#join the above RDDs to get state and request data for every user (right join to only include users we have data on)\n",
    "#re-map to take state as key\n",
    "requestsByState = requestsByState.rightOuterJoin(requestsPerUser)\\\n",
    "    .map(lambda(user,(state,count)):(state,(user,count)))\\\n",
    "    .reduceByKey(lambda v1 , v2: max(v1, v2, key = lambda line: line[-1])) #use nested lambda function to get max count (ie last element) for each key value\n",
    "\n",
    "    \n",
    "for (state, values) in requestsByState.collect():\n",
    "    print state , '|','\\tBiggest User:' , values[0] , '\\tRequests: ' , values[1]\n"
   ]
  }
 ],
 "metadata": {
  "kernelspec": {
   "display_name": "Python 2",
   "language": "python",
   "name": "python2"
  },
  "language_info": {
   "codemirror_mode": {
    "name": "ipython",
    "version": 2
   },
   "file_extension": ".py",
   "mimetype": "text/x-python",
   "name": "python",
   "nbconvert_exporter": "python",
   "pygments_lexer": "ipython2",
   "version": "2.7.8"
  }
 },
 "nbformat": 4,
 "nbformat_minor": 0
}
